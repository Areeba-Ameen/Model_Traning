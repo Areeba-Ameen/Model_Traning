{
 "cells": [
  {
   "cell_type": "code",
   "execution_count": 45,
   "id": "d08dd3c6-41dc-4e7b-842f-ce31e9bc48d3",
   "metadata": {},
   "outputs": [
    {
     "name": "stdout",
     "output_type": "stream",
     "text": [
      "accuracy score 1.0\n"
     ]
    }
   ],
   "source": [
    "from sklearn.model_selection import train_test_split\n",
    "from sklearn.neighbors import KNeighborsClassifier\n",
    "from sklearn.linear_model import LinearRegression\n",
    "from sklearn.svm import SVC\n",
    "from sklearn.metrics import r2_score, mean_squared_error,accuracy_score\n",
    "import pandas as pd\n",
    "\n",
    "#svc \n",
    "vt = pd.read_csv(\"iris.csv\")\n",
    "\n",
    "x = vt.drop(['variety'],axis=1)\n",
    "y = vt['variety']\n",
    "\n",
    "x_train,x_test,y_train,y_test = train_test_split(x,y,test_size = 0.2, random_state=42)\n",
    "\n",
    "svc = SVC(C=1,kernel = 'rbf', tol = 0.001)\n",
    "svc.fit(x_train,y_train)\n",
    "\n",
    "y_pred = svc.predict(x_test)\n",
    "\n",
    "print(f\"accuracy score {accuracy_score(y_pred,y_test)}\")"
   ]
  },
  {
   "cell_type": "code",
   "execution_count": 49,
   "id": "0835dacc-5539-4e7d-9c3b-afda6cfa225a",
   "metadata": {},
   "outputs": [
    {
     "name": "stdout",
     "output_type": "stream",
     "text": [
      "accuracy score 1.0\n"
     ]
    }
   ],
   "source": [
    "#neighbor \n",
    "vt = pd.read_csv(\"iris.csv\")\n",
    "\n",
    "x = vt.drop(['variety'],axis=1)\n",
    "y = vt['variety']\n",
    "\n",
    "x_train,x_test,y_train,y_test = train_test_split(x,y,test_size = 0.2, random_state=42)\n",
    "\n",
    "ngb = KNeighborsClassifier()\n",
    "ngb.fit(x_train,y_train)\n",
    "\n",
    "y_pred = ngb.predict(x_test)\n",
    "\n",
    "print(f\"accuracy score {accuracy_score(y_pred,y_test)}\")"
   ]
  },
  {
   "cell_type": "code",
   "execution_count": null,
   "id": "26fa3dd1-db5d-4685-8268-ad5323acb7d2",
   "metadata": {},
   "outputs": [
    {
     "name": "stdout",
     "output_type": "stream",
     "text": [
      "mean squared error, 0.10212647866320365\n",
      "r2 score 0.8353100082683956\n"
     ]
    }
   ],
   "source": [
    "#linear model \n",
    "vt = pd.read_csv(\"iris.csv\")\n",
    "\n",
    "x = vt[['sepal.width','petal.length','petal.width']]\n",
    "y = vt['sepal.length']\n",
    "\n",
    "x_train,x_test,y_train,y_test = train_test_split(x,y,test_size = 0.2, random_state=42)\n",
    "\n",
    "llm = LinearRegression()\n",
    "llm.fit(x_train,y_train)\n",
    "\n",
    "y_pred = llm.predict(x_test)\n",
    "\n",
    "#print(f\"accuracy score {accuracy_score(y_pred,y_test)}\")\n",
    "print(f\"mean squared error, {mean_squared_error(y_test,y_pred)}\")\n",
    "print(f\"r2 score {r2_score(y_pred,y_test)}\")"
   ]
  }
 ],
 "metadata": {
  "kernelspec": {
   "display_name": "Python 3 (ipykernel)",
   "language": "python",
   "name": "python3"
  },
  "language_info": {
   "codemirror_mode": {
    "name": "ipython",
    "version": 3
   },
   "file_extension": ".py",
   "mimetype": "text/x-python",
   "name": "python",
   "nbconvert_exporter": "python",
   "pygments_lexer": "ipython3",
   "version": "3.12.7"
  }
 },
 "nbformat": 4,
 "nbformat_minor": 5
}
